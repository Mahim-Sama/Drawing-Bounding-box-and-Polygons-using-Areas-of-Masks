{
 "cells": [
  {
   "cell_type": "code",
   "execution_count": null,
   "metadata": {},
   "outputs": [],
   "source": [
    "# # Segmentaion classes Rescunet_dataset from kaggle (RescueNet 1.0)\n",
    "# list_of_classes = {'Background':0, 'Debris':1, 'Water':2, 'Building_No_Damage':3, \n",
    "#                       'Building_Minor_Damage':4, 'Building_Major_Damage':5, 'Building_Total_Destruction':6, \n",
    "#                                  'Vehicle':7, 'Road':8, 'Tree':9, 'Pool':10, 'Sand':11}"
   ]
  },
  {
   "cell_type": "code",
   "execution_count": 1,
   "metadata": {},
   "outputs": [],
   "source": [
    "import cv2\n",
    "import numpy as np\n",
    "import os\n",
    "import traceback\n",
    "import shutil"
   ]
  },
  {
   "cell_type": "code",
   "execution_count": 4,
   "metadata": {},
   "outputs": [
    {
     "name": "stdout",
     "output_type": "stream",
     "text": [
      "Found 82 image pairs to process.\n"
     ]
    }
   ],
   "source": [
    "def process_image(image_path, image_paths2, save_dir):\n",
    "    try:\n",
    "        # Read and color-convert the labeled image\n",
    "        image1 = cv2.imread(image_path)\n",
    "        image1 = cv2.cvtColor(image1, cv2.COLOR_BGR2RGB)\n",
    "\n",
    "        # Define class colors (for visualization)\n",
    "        class_colors = {\n",
    "            0: (0, 0, 0),         # Background (Black)\n",
    "            1: (139, 69, 19),     # Debris (SaddleBrown)\n",
    "            2: (0, 191, 255),     # Water (DeepSkyBlue)\n",
    "            3: (50, 205, 50),     # Building_No_Damage (LimeGreen)\n",
    "            4: (255, 165, 0),     # Building_Minor_Damage (Orange)\n",
    "            5: (255, 69, 0),      # Building_Major_Damage (RedOrange)\n",
    "            6: (255, 0, 0),       # Building_Total_Destruction (Red)\n",
    "            7: (75, 0, 130),      # Vehicle (Indigo)\n",
    "            8: (169, 169, 169),   # Road (DarkGray)\n",
    "            9: (34, 139, 34),     # Tree (ForestGreen)\n",
    "            10: (30, 144, 255),   # Pool (DodgerBlue)\n",
    "            11: (244, 164, 96)    # Sand (SandyBrown)\n",
    "        }\n",
    "\n",
    "        # LUT (Look-Up Table) for mapping the class colors\n",
    "        lut = np.zeros((256, 1, 3), dtype=np.uint8)\n",
    "        for class_id, color in class_colors.items():\n",
    "            lut[class_id] = color\n",
    "        colored_image = cv2.LUT(image1, lut)\n",
    "\n",
    "        # Read the original image\n",
    "        image2 = cv2.imread(image_paths2)\n",
    "\n",
    "        # Draw polygon annotations\n",
    "        for class_id, color in class_colors.items():\n",
    "            if class_id != 0:  # Skip background\n",
    "                mask = cv2.inRange(colored_image, np.array(color) - 10, np.array(color) + 10)\n",
    "                contours, _ = cv2.findContours(mask, cv2.RETR_EXTERNAL, cv2.CHAIN_APPROX_NONE)\n",
    "                for contour in contours:\n",
    "                    epsilon = 0.01 * cv2.arcLength(contour, True)\n",
    "                    approx = cv2.approxPolyDP(contour, epsilon, True)\n",
    "                    polygon_color = class_colors[class_id]\n",
    "                    cv2.polylines(image2, [approx], True, polygon_color, 12)  # 12 = thickness of polygon lines\n",
    "                    # cv2.putText(image2, f\"class: {class_id}\", (approx[0][0][0], approx[0][0][1]),\n",
    "                    #             cv2.FONT_HERSHEY_SIMPLEX, 1, polygon_color, 2, cv2.LINE_AA)\n",
    "\n",
    "        # Saving the image with polygons\n",
    "        output_filename = os.path.basename(image_paths2)\n",
    "        output_path = os.path.join(save_dir, os.path.splitext(output_filename)[0] + '_polygon.jpg')\n",
    "        cv2.imwrite(output_path, image2)\n",
    "\n",
    "    except Exception as e:\n",
    "        print(f\"Error processing {image_path} and {image_paths2}: {e}\")\n",
    "        traceback.print_exc()\n",
    "\n",
    "def main():\n",
    "    image_dir = r\"M:\\SOL\\YOLO\\YOLO_RescueNet\\Experimantation__Folder\\Experiment_cnvrtng_labeled\"\n",
    "    image_dir2 = r\"M:\\SOL\\YOLO\\YOLO_RescueNet\\Experimantation__Folder\\Experiment_cnvrtng_org\"\n",
    "    \n",
    "    image_paths = [os.path.join(image_dir, filename) for filename in os.listdir(image_dir)]\n",
    "    image_paths2 = [os.path.join(image_dir2, filename) for filename in os.listdir(image_dir2)]\n",
    "    \n",
    "    combined_paths = list(zip(image_paths, image_paths2))\n",
    "    print(f\"Found {len(combined_paths)} image pairs to process.\")\n",
    "    \n",
    "    # Directory where the output will be saved\n",
    "    save_dir = r\"M:\\SOL\\YOLO\\YOLO_RescueNet\\Experimantation__Folder\\Cnvrtd_train_image\"\n",
    "    \n",
    "    # Clear the directory only once, before processing all images\n",
    "    if not os.path.exists(save_dir):\n",
    "        os.makedirs(save_dir)\n",
    "    else:\n",
    "        for filename in os.listdir(save_dir):\n",
    "            file_path = os.path.join(save_dir, filename)\n",
    "            try:\n",
    "                if os.path.isfile(file_path):\n",
    "                    os.unlink(file_path)\n",
    "                elif os.path.isdir(file_path):\n",
    "                    shutil.rmtree(file_path)\n",
    "            except Exception as e:\n",
    "                print(f'Failed to delete {file_path}. Reason: {e}')\n",
    "    \n",
    "    # Process all image pairs\n",
    "    for image_path, image_paths2 in combined_paths:\n",
    "        process_image(image_path, image_paths2, save_dir)\n",
    "\n",
    "if __name__ == '__main__':\n",
    "    main()"
   ]
  }
 ],
 "metadata": {
  "kernelspec": {
   "display_name": "Python 3",
   "language": "python",
   "name": "python3"
  },
  "language_info": {
   "codemirror_mode": {
    "name": "ipython",
    "version": 3
   },
   "file_extension": ".py",
   "mimetype": "text/x-python",
   "name": "python",
   "nbconvert_exporter": "python",
   "pygments_lexer": "ipython3",
   "version": "3.11.4"
  }
 },
 "nbformat": 4,
 "nbformat_minor": 2
}
