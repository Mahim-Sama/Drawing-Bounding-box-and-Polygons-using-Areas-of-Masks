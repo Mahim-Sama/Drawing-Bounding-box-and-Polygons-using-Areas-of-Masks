{
 "cells": [
  {
   "cell_type": "markdown",
   "metadata": {},
   "source": [
    "## Masks to Bounding boxes (semantic segmentation to object detection segmentetaion)"
   ]
  },
  {
   "cell_type": "code",
   "execution_count": 9,
   "metadata": {},
   "outputs": [],
   "source": [
    "# Segmentation classes\n",
    "# list_of_classes = ['Background', 'Water', 'Building_No_Damage', 'Building_Minor_Damage', \n",
    "#                    'Building_Major_Damage', 'Building_Total_Destruction', 'Vehicle', 'Road-Clear', \n",
    "#                    'Road-Blocked', 'Tree', 'Pool']"
   ]
  },
  {
   "cell_type": "code",
   "execution_count": 1,
   "metadata": {},
   "outputs": [],
   "source": [
    "import cv2\n",
    "import numpy as np\n",
    "import os\n",
    "import traceback"
   ]
  },
  {
   "cell_type": "markdown",
   "metadata": {},
   "source": [
    "### Clear the saving directory"
   ]
  },
  {
   "cell_type": "code",
   "execution_count": 6,
   "metadata": {},
   "outputs": [],
   "source": [
    "import shutil\n",
    "\n",
    "def clear_directory(dir_path):\n",
    "    if os.path.exists(dir_path):\n",
    "        # Delete all files in the directory\n",
    "        for filename in os.listdir(dir_path):\n",
    "            file_path = os.path.join(dir_path, filename)\n",
    "            try:\n",
    "                if os.path.isfile(file_path) or os.path.islink(file_path):\n",
    "                    os.unlink(file_path)  # Remove the file\n",
    "                elif os.path.isdir(file_path):\n",
    "                    shutil.rmtree(file_path)  # Remove directories and their contents\n",
    "            except Exception as e:\n",
    "                print(f\"Failed to delete {file_path}. Reason: {e}\")\n",
    "    else:\n",
    "        # Create the directory if it doesn't exist\n",
    "        os.makedirs(dir_path)\n",
    "        print(f\"Created directory: {dir_path}\")"
   ]
  },
  {
   "cell_type": "markdown",
   "metadata": {},
   "source": [
    "### Processing Image"
   ]
  },
  {
   "cell_type": "code",
   "execution_count": 7,
   "metadata": {},
   "outputs": [
    {
     "name": "stdout",
     "output_type": "stream",
     "text": [
      "Found 82 image pairs to process.\n"
     ]
    }
   ],
   "source": [
    "def process_image(image_path, image_paths2):\n",
    "    rotated_boxes = [] # Store the rotated bounding boxes for YOLO conversion\n",
    "    try:\n",
    "        image1 = cv2.imread(image_path)\n",
    "        image1 = cv2.cvtColor(image1, cv2.COLOR_BGR2RGB)\n",
    "        \n",
    "        class_colors = {\n",
    "            0: (0, 0, 0),         # Background (Black)\n",
    "            1: (139, 69, 19),     # Debris (SaddleBrown)\n",
    "            2: (0, 191, 255),     # Water (DeepSkyBlue)\n",
    "            3: (50, 205, 50),     # Building_No_Damage (LimeGreen)\n",
    "            4: (255, 165, 0),     # Building_Minor_Damage (Orange)\n",
    "            5: (255, 69, 0),      # Building_Major_Damage (RedOrange)\n",
    "            6: (255, 0, 0),       # Building_Total_Destruction (Red)\n",
    "            7: (75, 0, 130),      # Vehicle (Indigo)\n",
    "            8: (169, 169, 169),   # Road (DarkGray)\n",
    "            9: (34, 139, 34),     # Tree (ForestGreen)\n",
    "            10: (30, 144, 255),   # Pool (DodgerBlue)\n",
    "            11: (244, 164, 96)    # Sand (SandyBrown)\n",
    "        }\n",
    "        \n",
    "        lut = np.zeros((256, 1, 3), dtype=np.uint8)\n",
    "        for class_id, color in class_colors.items():\n",
    "            lut[class_id] = color\n",
    "        colored_image = cv2.LUT(image1, lut)\n",
    "\n",
    "        image2 = cv2.imread(image_paths2)\n",
    "        image_width = image2.shape[1]  # width\n",
    "        image_height = image2.shape[0]  # height\n",
    "        \n",
    "        # Draw bounding boxes\n",
    "        for class_id, color in class_colors.items():\n",
    "            if class_id != 0:  \n",
    "                mask = cv2.inRange(colored_image, np.array(color), np.array(color))\n",
    "                contours, _ = cv2.findContours(mask, cv2.RETR_EXTERNAL, cv2.CHAIN_APPROX_SIMPLE)\n",
    "                for contour in contours:\n",
    "                    rotated_rect = cv2.minAreaRect(contour)\n",
    "                    box = cv2.boxPoints(rotated_rect)\n",
    "                    box = np.intp(box)\n",
    "                    rotated_boxes.append((class_id, box))\n",
    "                    rectangle_color = class_colors[class_id]\n",
    "                    cv2.drawContours(image2, [box], 0, rectangle_color, 12) \n",
    "                    cv2.putText(image2, f\"class:{class_id}\", (box[0][0], box[0][1]), cv2.FONT_HERSHEY_SIMPLEX, 1, rectangle_color, 2, cv2.LINE_AA)\n",
    "\n",
    "        # Save the image with bounding boxes\n",
    "        save_dir = r\"M:\\SOL\\YOLO\\YOLO_RescueNet\\Experimantation__Folder\\Cnvrtd_train_image\"\n",
    "        os.makedirs(save_dir, exist_ok=True)  # Ensure the directory exists\n",
    "        output_filename = os.path.basename(image_paths2)\n",
    "        output_path = os.path.join(save_dir, os.path.splitext(output_filename)[0] + '_bbox.jpg')\n",
    "        cv2.imwrite(output_path, image2)\n",
    "    \n",
    "    except Exception as e:\n",
    "        print(f\"Error processing {image_path} and {image_paths2}: {e}\")\n",
    "        traceback.print_exc()\n",
    "    \n",
    "    # Convert bounding boxes to YOLO format\n",
    "    box_to_yolo_cords = box_to_yolo_format(rotated_boxes, image_width, image_height)\n",
    "    return box_to_yolo_cords\n",
    "\n",
    "def box_to_yolo_format(rotated_boxes, image_width, image_height):\n",
    "    yolo_coordinates = []\n",
    "    for r_box in rotated_boxes:\n",
    "        points = r_box[1]\n",
    "        points[:, 0] = np.clip(points[:, 0], 0, image_width)\n",
    "        points[:, 1] = np.clip(points[:, 1], 0, image_height) \n",
    "        \n",
    "        # Calculate the axis-aligned bounding box\n",
    "        x_min, y_min = np.min(points, axis=0)\n",
    "        x_max, y_max = np.max(points, axis=0)\n",
    "\n",
    "        # Calculate center, width, and height\n",
    "        x_center = (x_min + x_max) / 2\n",
    "        y_center = (y_min + y_max) / 2\n",
    "        width = x_max - x_min\n",
    "        height = y_max - y_min\n",
    "\n",
    "        # Normalize the values\n",
    "        x_center_normalized = x_center / image_width\n",
    "        y_center_normalized = y_center / image_height\n",
    "        width_normalized = width / image_width\n",
    "        height_normalized = height / image_height\n",
    "\n",
    "        # YOLO format coordinates\n",
    "        yolo_coordinate = [x_center_normalized, y_center_normalized, width_normalized, height_normalized]\n",
    "        yolo_coordinates.append(yolo_coordinate)\n",
    "    \n",
    "    return yolo_coordinates\n",
    "\n",
    "def main():\n",
    "    # Clear saving directory\n",
    "    save_dir = r\"M:\\SOL\\YOLO\\YOLO_RescueNet\\Experimantation__Folder\\Cnvrtd_train_image\"\n",
    "    clear_directory(save_dir)  # Clear the save directory before processing images\n",
    "    \n",
    "    image_dir = r\"M:\\SOL\\YOLO\\YOLO_RescueNet\\Experimantation__Folder\\Experiment_cnvrtng_labeled\"\n",
    "    image_dir2 = r\"M:\\SOL\\YOLO\\YOLO_RescueNet\\Experimantation__Folder\\Experiment_cnvrtng_org\"\n",
    "    image_paths = [os.path.join(image_dir, filename) for filename in os.listdir(image_dir)]\n",
    "    image_paths2 = [os.path.join(image_dir2, filename) for filename in os.listdir(image_dir2)]\n",
    "    combined_paths = list(zip(image_paths, image_paths2))\n",
    "    \n",
    "    print(f\"Found {len(combined_paths)} image pairs to process.\")\n",
    "    for image_path, image_paths2 in combined_paths:\n",
    "        box_to_cord = process_image(image_path, image_paths2)\n",
    "        # print(box_to_cord)\n",
    "\n",
    "if __name__ == '__main__':\n",
    "    main()"
   ]
  }
 ],
 "metadata": {
  "kernelspec": {
   "display_name": "Python 3",
   "language": "python",
   "name": "python3"
  },
  "language_info": {
   "codemirror_mode": {
    "name": "ipython",
    "version": 3
   },
   "file_extension": ".py",
   "mimetype": "text/x-python",
   "name": "python",
   "nbconvert_exporter": "python",
   "pygments_lexer": "ipython3",
   "version": "3.11.4"
  }
 },
 "nbformat": 4,
 "nbformat_minor": 2
}
